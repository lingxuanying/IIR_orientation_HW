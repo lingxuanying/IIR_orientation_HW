{
  "nbformat": 4,
  "nbformat_minor": 0,
  "metadata": {
    "colab": {
      "name": "新訓HW5.ipynb",
      "provenance": []
    },
    "kernelspec": {
      "name": "python3",
      "display_name": "Python 3"
    },
    "language_info": {
      "name": "python"
    }
  },
  "cells": [
    {
      "cell_type": "code",
      "metadata": {
        "id": "rFqHJrysLkFr"
      },
      "source": [
        "import pandas as pd\n",
        "\n",
        "file_name = 'statistic_variable.csv'\n",
        "variable = pd.read_csv(file_name, engine='python', names=[\"col\", \"explain\"])\n",
        "column = variable[\"col\"]\n",
        "column[len(column)-1] = \"score\"\n",
        "\n",
        "file_name = 'statistic_data.csv'\n",
        "data = pd.read_csv(file_name, encoding='utf-8', engine='python', names = column)\n"
      ],
      "execution_count": 28,
      "outputs": []
    },
    {
      "cell_type": "code",
      "metadata": {
        "colab": {
          "base_uri": "https://localhost:8080/"
        },
        "id": "dxZ_8W-cYz9h",
        "outputId": "d43f4d93-1233-4acc-cc5c-b05b25d1ecf2"
      },
      "source": [
        "print(data.head())\n",
        "print(data.columns)"
      ],
      "execution_count": 30,
      "outputs": [
        {
          "output_type": "stream",
          "text": [
            "    No  Company  sex  age  Area  marriage  ...  Q5  Q6  Loyalty  AGE1  AREA1  score\n",
            "0  101        1    2    2     1         1  ...   4   4        4     2      1   3.67\n",
            "1  102        1    1    3     1         2  ...   4   5        3     3      1   3.50\n",
            "2  103        1    2    1     1         1  ...   4   4        4     1      1   4.00\n",
            "3  104        1    2    3     1         2  ...   2   3        2     3      1   2.17\n",
            "4  105        1    1    2     1         1  ...   5   4        4     2      1   4.17\n",
            "\n",
            "[5 rows x 18 columns]\n",
            "Index(['No', 'Company', 'sex', 'age', 'Area', 'marriage', 'Use_time', 'Update',\n",
            "       'Q1', 'Q2', 'Q3', 'Q4', 'Q5', 'Q6', 'Loyalty', 'AGE1', 'AREA1',\n",
            "       'score'],\n",
            "      dtype='object')\n"
          ],
          "name": "stdout"
        }
      ]
    },
    {
      "cell_type": "code",
      "metadata": {
        "id": "YJcHiZFxL0TQ"
      },
      "source": [
        "from scipy import stats\n",
        "import numpy as np\n",
        "rng = np.random.default_rng()"
      ],
      "execution_count": 25,
      "outputs": []
    },
    {
      "cell_type": "code",
      "metadata": {
        "colab": {
          "base_uri": "https://localhost:8080/"
        },
        "id": "dV2hfeiojTy1",
        "outputId": "3ea5b293-e1cc-456a-9362-8c6f19fb03d5"
      },
      "source": [
        "class_sex = data[\"sex\"].unique()\n",
        "class_score = []\n",
        "for i in class_sex:\n",
        "  filter = (data[\"sex\"] == i)\n",
        "  class_score.append(data[filter]['score'].values)\n",
        "print(class_score)"
      ],
      "execution_count": 35,
      "outputs": [
        {
          "output_type": "stream",
          "text": [
            "[array([3.67, 4.  , 2.17, 3.33, 3.17, 3.67, 4.17, 3.83, 3.83, 3.67, 3.67,\n",
            "       3.5 , 3.33, 3.5 , 3.33, 4.17, 3.83, 3.83, 4.  , 3.5 , 4.  , 3.5 ,\n",
            "       4.33, 3.17, 3.67, 3.5 , 4.  , 3.5 , 3.83, 3.5 , 3.67, 3.67, 1.67,\n",
            "       3.67, 3.83, 4.17, 3.83, 3.33, 3.5 , 3.5 , 4.17, 3.5 , 4.  , 4.33,\n",
            "       4.  , 3.5 , 4.  , 3.33, 3.83, 3.5 , 3.67, 3.67, 3.33, 3.17, 4.5 ,\n",
            "       4.17, 3.67, 3.67, 3.  , 3.33, 3.83, 3.5 , 3.67, 5.  , 4.33, 4.33,\n",
            "       2.5 , 4.17, 3.33, 3.67, 3.5 , 3.67, 3.83, 3.83, 3.83, 3.33, 3.17,\n",
            "       2.83, 2.67, 3.67, 3.67, 3.67, 3.33, 3.  , 3.67, 3.33, 3.5 , 3.  ,\n",
            "       3.  , 3.17, 3.67, 3.67, 3.17, 3.67, 3.17, 3.67, 3.83, 3.5 , 4.17,\n",
            "       3.5 , 4.  , 4.33, 4.  , 3.5 , 4.  , 3.33, 3.67, 3.33, 3.  , 3.67,\n",
            "       3.33, 3.  , 3.67, 3.33, 3.5 , 3.  , 3.  , 3.17, 3.67]), array([3.5 , 4.17, 3.33, 3.67, 3.67, 4.33, 4.67, 3.17, 3.5 , 4.17, 3.33,\n",
            "       3.67, 3.83, 4.17, 3.33, 3.5 , 3.17, 4.17, 3.5 , 4.  , 3.5 , 4.17,\n",
            "       4.  , 3.67, 4.  , 4.17, 3.83, 3.83, 4.  , 4.33, 4.  , 3.33, 4.17,\n",
            "       3.83, 3.67, 3.67, 3.67, 3.17, 3.5 , 3.67, 4.  , 3.5 , 3.67, 3.83,\n",
            "       3.67, 3.17, 3.67, 4.  , 3.67, 3.  , 3.17, 4.83, 3.83, 3.83, 4.33,\n",
            "       3.5 , 3.67, 3.83, 4.17, 3.67, 4.5 , 3.83, 3.5 , 3.67, 3.67, 3.5 ,\n",
            "       3.5 , 2.83, 3.33, 3.  , 3.17, 3.17, 3.33, 3.5 , 3.67, 3.33, 3.33,\n",
            "       3.5 , 3.5 , 3.5 , 3.33, 3.5 , 3.  , 3.5 , 3.83, 4.  , 3.33, 4.17,\n",
            "       3.83, 3.67, 3.67, 3.67, 3.17, 3.5 , 3.67, 4.  , 3.5 , 3.67, 3.67,\n",
            "       3.33, 3.33, 3.5 , 3.5 ])]\n"
          ],
          "name": "stdout"
        }
      ]
    },
    {
      "cell_type": "code",
      "metadata": {
        "colab": {
          "base_uri": "https://localhost:8080/"
        },
        "id": "NpXfu-wxgEwO",
        "outputId": "480d9d9c-b6b8-4b91-cf5a-23ed8620456d"
      },
      "source": [
        "stats.ttest_ind(class_score[0], class_score[1])"
      ],
      "execution_count": 36,
      "outputs": [
        {
          "output_type": "execute_result",
          "data": {
            "text/plain": [
              "Ttest_indResult(statistic=-1.4276502548839034, pvalue=0.15481046284639347)"
            ]
          },
          "metadata": {
            "tags": []
          },
          "execution_count": 36
        }
      ]
    },
    {
      "cell_type": "code",
      "metadata": {
        "colab": {
          "base_uri": "https://localhost:8080/"
        },
        "id": "hv34J3NnkVmK",
        "outputId": "6c4c88e1-7284-44a5-a0d6-d3784f7e8b38"
      },
      "source": [
        "class_loyalty = data['Loyalty'].unique()\n",
        "class_score = []\n",
        "for i in class_loyalty:\n",
        "  filter = (data[\"Loyalty\"] == i)\n",
        "  class_score.append(data[filter]['score'].values)\n",
        "print(class_score)"
      ],
      "execution_count": 38,
      "outputs": [
        {
          "output_type": "stream",
          "text": [
            "[array([3.67, 4.  , 4.17, 3.33, 3.67, 4.17, 3.83, 3.83, 3.67, 3.67, 3.17,\n",
            "       3.5 , 3.5 , 4.17, 4.17, 3.67, 3.83, 3.83, 3.33, 3.5 , 3.17, 4.  ,\n",
            "       3.5 , 4.  , 3.5 , 4.33, 3.67, 3.67, 4.  , 4.  , 4.17, 3.83, 3.83,\n",
            "       4.  , 3.67, 4.33, 3.33, 3.5 , 4.17, 3.5 , 3.83, 3.67, 3.67, 3.67,\n",
            "       4.  , 3.5 , 3.67, 3.33, 4.  , 3.5 , 3.83, 3.83, 3.67, 3.67, 3.17,\n",
            "       3.67, 3.17, 3.67, 4.  , 3.  , 3.67, 3.  , 3.83, 3.5 , 3.67, 3.83,\n",
            "       4.33, 4.33, 3.5 , 3.67, 3.83, 4.17, 3.67, 3.67, 3.83, 3.5 , 3.67,\n",
            "       3.5 , 3.83, 3.5 , 3.5 , 2.83, 3.33, 3.17, 2.83, 3.67, 3.67, 3.5 ,\n",
            "       3.67, 3.67, 3.67, 3.33, 3.5 , 3.  , 3.33, 3.5 , 3.5 , 3.5 , 3.67,\n",
            "       3.33, 3.5 , 3.67, 3.83, 3.83, 3.5 , 4.17, 3.5 , 3.83, 3.67, 3.67,\n",
            "       3.67, 4.  , 3.5 , 3.67, 3.33, 3.5 , 3.67, 3.67, 3.67, 3.67, 3.33,\n",
            "       3.5 , 3.  , 3.33, 3.5 ]), array([3.5 , 3.17, 3.67, 4.33, 3.33, 3.33, 3.33, 3.5 , 4.  , 3.5 , 3.5 ,\n",
            "       3.5 , 4.  , 3.33, 3.17, 3.67, 3.5 , 3.33, 4.17, 3.17, 2.5 , 4.17,\n",
            "       3.67, 3.83, 3.33, 3.  , 3.17, 3.17, 2.67, 3.33, 3.33, 3.  , 3.33,\n",
            "       3.  , 3.17, 3.67, 3.67, 3.17, 3.17, 3.  , 3.5 , 3.33, 4.  , 3.5 ,\n",
            "       3.17, 4.  , 3.33, 3.  , 3.33, 3.  , 3.33, 3.  , 3.17, 3.67]), array([2.17, 3.5 , 3.83, 1.67, 3.5 , 3.33, 3.67, 3.5 ]), array([3.33, 3.67, 4.67, 3.5 , 3.83, 4.17, 4.17, 4.17, 4.  , 3.17, 3.67,\n",
            "       3.67, 3.83, 4.17, 3.83, 3.5 , 4.17, 4.  , 4.33, 4.  , 4.5 , 3.67,\n",
            "       3.67, 3.33, 4.83, 3.83, 5.  , 4.33, 4.5 , 3.67, 3.83, 4.  , 4.17,\n",
            "       4.  , 4.33])]\n"
          ],
          "name": "stdout"
        }
      ]
    },
    {
      "cell_type": "code",
      "metadata": {
        "colab": {
          "base_uri": "https://localhost:8080/"
        },
        "id": "HPe-8qv6oLxe",
        "outputId": "afd5b8a0-ec1d-4ef4-b347-ceb8ae875495"
      },
      "source": [
        "from scipy.stats import f_oneway\n",
        "f_oneway(class_score[0], class_score[1], class_score[2], class_score[3])"
      ],
      "execution_count": 39,
      "outputs": [
        {
          "output_type": "execute_result",
          "data": {
            "text/plain": [
              "F_onewayResult(statistic=22.762557230723463, pvalue=7.376799174269514e-13)"
            ]
          },
          "metadata": {
            "tags": []
          },
          "execution_count": 39
        }
      ]
    },
    {
      "cell_type": "code",
      "metadata": {
        "colab": {
          "base_uri": "https://localhost:8080/"
        },
        "id": "kyEcEUuUpR4O",
        "outputId": "6d377a77-1a54-4b07-891a-2c6643c29a76"
      },
      "source": [
        "class_update = data['Update'].unique()\n",
        "class_score = []\n",
        "for i in class_update:\n",
        "  filter = (data[\"Update\"] == i)\n",
        "  class_score.append(data[filter]['score'].values)\n",
        "print(class_score)"
      ],
      "execution_count": 42,
      "outputs": [
        {
          "output_type": "stream",
          "text": [
            "[array([3.67, 4.  , 4.17, 3.17, 3.67, 4.33, 3.67, 3.67, 3.5 , 3.33, 3.33,\n",
            "       4.17, 3.83, 4.17, 4.  , 3.5 , 3.5 , 4.17, 3.17, 3.67, 3.67, 4.  ,\n",
            "       3.5 , 3.5 , 3.67, 4.  , 3.67, 3.33, 4.17, 3.5 , 4.  , 4.  , 3.67,\n",
            "       4.  , 4.  , 3.5 , 3.67, 3.33, 4.5 , 4.17, 3.67, 3.33, 3.83, 4.83,\n",
            "       3.67, 3.83, 5.  , 3.83, 4.33, 4.33, 3.5 , 3.83, 4.17, 4.17, 3.67,\n",
            "       3.33, 3.5 , 3.67, 3.5 , 3.67, 3.83, 3.83, 3.5 , 3.5 , 3.33, 3.17,\n",
            "       2.83, 2.67, 3.33, 3.67, 3.67, 3.67, 3.5 , 3.17, 3.67, 3.5 , 3.67,\n",
            "       3.33, 3.5 , 3.  , 3.83, 3.5 , 3.33, 4.17, 3.5 , 4.  , 4.  , 3.67,\n",
            "       4.  , 4.  , 3.5 , 3.67, 3.5 , 3.17, 3.67, 3.5 ]), array([3.5 , 2.17, 3.33, 3.33, 3.67, 3.67, 4.17, 3.83, 4.67, 3.83, 3.17,\n",
            "       3.5 , 3.33, 3.5 , 4.17, 3.67, 3.83, 3.83, 4.17, 3.33, 3.5 , 3.17,\n",
            "       4.  , 3.5 , 3.5 , 4.  , 4.  , 4.33, 3.5 , 4.  , 3.83, 4.17, 3.83,\n",
            "       3.67, 3.83, 1.67, 3.83, 4.17, 4.33, 3.83, 3.33, 3.5 , 3.5 , 4.  ,\n",
            "       4.17, 3.83, 4.33, 3.67, 3.5 , 3.67, 3.17, 3.5 , 3.67, 3.33, 3.67,\n",
            "       3.83, 3.83, 3.5 , 3.67, 3.17, 3.67, 3.17, 3.67, 4.  , 3.  , 3.67,\n",
            "       3.17, 3.67, 3.  , 3.5 , 4.33, 2.5 , 3.67, 3.67, 4.5 , 3.83, 3.67,\n",
            "       3.83, 2.83, 3.33, 3.  , 3.17, 3.17, 3.5 , 3.67, 3.33, 3.67, 3.  ,\n",
            "       3.33, 3.33, 3.  , 3.  , 3.33, 3.5 , 3.5 , 3.17, 3.67, 3.17, 3.67,\n",
            "       3.5 , 3.83, 4.  , 4.17, 3.83, 4.33, 3.67, 3.5 , 3.67, 3.17, 3.5 ,\n",
            "       3.67, 3.33, 3.67, 3.33, 3.67, 3.  , 3.67, 3.33, 3.67, 3.  , 3.33,\n",
            "       3.33, 3.  , 3.  , 3.33, 3.5 ])]\n"
          ],
          "name": "stdout"
        }
      ]
    },
    {
      "cell_type": "code",
      "metadata": {
        "colab": {
          "base_uri": "https://localhost:8080/"
        },
        "id": "km33SB9ApmW9",
        "outputId": "16061b49-e2ff-4137-b9d6-08cdddf51d28"
      },
      "source": [
        "stats.ttest_ind(class_score[0], class_score[1])"
      ],
      "execution_count": 43,
      "outputs": [
        {
          "output_type": "execute_result",
          "data": {
            "text/plain": [
              "Ttest_indResult(statistic=2.50574187106636, pvalue=0.012943663454484522)"
            ]
          },
          "metadata": {
            "tags": []
          },
          "execution_count": 43
        }
      ]
    }
  ]
}