{
  "nbformat": 4,
  "nbformat_minor": 0,
  "metadata": {
    "colab": {
      "name": "新訓hw2.ipynb",
      "provenance": [],
      "collapsed_sections": []
    },
    "kernelspec": {
      "name": "python3",
      "display_name": "Python 3"
    },
    "language_info": {
      "name": "python"
    }
  },
  "cells": [
    {
      "cell_type": "code",
      "metadata": {
        "colab": {
          "base_uri": "https://localhost:8080/"
        },
        "id": "1pbeA84KUqgo",
        "outputId": "17a8e64c-9990-4d22-9e6a-adab04afb45f"
      },
      "source": [
        "from google.colab import drive\n",
        "drive.mount('/content/drive')"
      ],
      "execution_count": 1,
      "outputs": [
        {
          "output_type": "stream",
          "name": "stdout",
          "text": [
            "Mounted at /content/drive\n"
          ]
        }
      ]
    },
    {
      "cell_type": "code",
      "metadata": {
        "colab": {
          "base_uri": "https://localhost:8080/",
          "height": 110
        },
        "id": "YaR58zTTZvUI",
        "outputId": "c61dcfdb-e9e5-484c-993c-bd15fad7ed45"
      },
      "source": [
        "import pandas as pd\n",
        "\n",
        "file_name = '/content/drive/My Drive/新生訓練/新訓HW2/ratings_small.csv'\n",
        "data = pd.read_csv(file_name, encoding='utf-8', engine='python')\n",
        "data.head(2)\n"
      ],
      "execution_count": 56,
      "outputs": [
        {
          "output_type": "execute_result",
          "data": {
            "text/html": [
              "<div>\n",
              "<style scoped>\n",
              "    .dataframe tbody tr th:only-of-type {\n",
              "        vertical-align: middle;\n",
              "    }\n",
              "\n",
              "    .dataframe tbody tr th {\n",
              "        vertical-align: top;\n",
              "    }\n",
              "\n",
              "    .dataframe thead th {\n",
              "        text-align: right;\n",
              "    }\n",
              "</style>\n",
              "<table border=\"1\" class=\"dataframe\">\n",
              "  <thead>\n",
              "    <tr style=\"text-align: right;\">\n",
              "      <th></th>\n",
              "      <th>userId</th>\n",
              "      <th>movieId</th>\n",
              "      <th>rating</th>\n",
              "      <th>timestamp</th>\n",
              "    </tr>\n",
              "  </thead>\n",
              "  <tbody>\n",
              "    <tr>\n",
              "      <th>0</th>\n",
              "      <td>1</td>\n",
              "      <td>31</td>\n",
              "      <td>2.5</td>\n",
              "      <td>1260759144</td>\n",
              "    </tr>\n",
              "    <tr>\n",
              "      <th>1</th>\n",
              "      <td>1</td>\n",
              "      <td>1029</td>\n",
              "      <td>3.0</td>\n",
              "      <td>1260759179</td>\n",
              "    </tr>\n",
              "  </tbody>\n",
              "</table>\n",
              "</div>"
            ],
            "text/plain": [
              "   userId  movieId  rating   timestamp\n",
              "0       1       31     2.5  1260759144\n",
              "1       1     1029     3.0  1260759179"
            ]
          },
          "metadata": {},
          "execution_count": 56
        }
      ]
    },
    {
      "cell_type": "code",
      "metadata": {
        "colab": {
          "base_uri": "https://localhost:8080/"
        },
        "id": "ifV0ZInYP2MH",
        "outputId": "926d2338-0805-4fba-8b91-90b68eee4630"
      },
      "source": [
        "print(type(data['userId'][0]), type(data['movieId'][0]), type(data['rating'][0]), type(data['timestamp'][0]))"
      ],
      "execution_count": 3,
      "outputs": [
        {
          "output_type": "stream",
          "name": "stdout",
          "text": [
            "<class 'numpy.int64'> <class 'numpy.int64'> <class 'numpy.float64'> <class 'numpy.int64'>\n"
          ]
        }
      ]
    },
    {
      "cell_type": "code",
      "metadata": {
        "colab": {
          "base_uri": "https://localhost:8080/"
        },
        "id": "eCIFVJ3yIu_t",
        "outputId": "ef1038fe-0136-4e14-db2d-6254042540aa"
      },
      "source": [
        "data.isna().sum()\n",
        "# 無須處理空值"
      ],
      "execution_count": 13,
      "outputs": [
        {
          "output_type": "execute_result",
          "data": {
            "text/plain": [
              "userId       0\n",
              "movieId      0\n",
              "rating       0\n",
              "timestamp    0\n",
              "dtype: int64"
            ]
          },
          "metadata": {},
          "execution_count": 13
        }
      ]
    },
    {
      "cell_type": "code",
      "metadata": {
        "colab": {
          "base_uri": "https://localhost:8080/",
          "height": 128
        },
        "id": "3Dk_CecZKwQB",
        "outputId": "613e7fd2-c326-4689-ffd3-8fe942092281"
      },
      "source": [
        "data['rating'] = data['rating'] / data['rating'].max()\n",
        "print(data['rating'].max())\n",
        "data.head(2)"
      ],
      "execution_count": 14,
      "outputs": [
        {
          "output_type": "stream",
          "name": "stdout",
          "text": [
            "1.0\n"
          ]
        },
        {
          "output_type": "execute_result",
          "data": {
            "text/html": [
              "<div>\n",
              "<style scoped>\n",
              "    .dataframe tbody tr th:only-of-type {\n",
              "        vertical-align: middle;\n",
              "    }\n",
              "\n",
              "    .dataframe tbody tr th {\n",
              "        vertical-align: top;\n",
              "    }\n",
              "\n",
              "    .dataframe thead th {\n",
              "        text-align: right;\n",
              "    }\n",
              "</style>\n",
              "<table border=\"1\" class=\"dataframe\">\n",
              "  <thead>\n",
              "    <tr style=\"text-align: right;\">\n",
              "      <th></th>\n",
              "      <th>userId</th>\n",
              "      <th>movieId</th>\n",
              "      <th>rating</th>\n",
              "      <th>timestamp</th>\n",
              "    </tr>\n",
              "  </thead>\n",
              "  <tbody>\n",
              "    <tr>\n",
              "      <th>0</th>\n",
              "      <td>1</td>\n",
              "      <td>31</td>\n",
              "      <td>0.5</td>\n",
              "      <td>1260759144</td>\n",
              "    </tr>\n",
              "    <tr>\n",
              "      <th>1</th>\n",
              "      <td>1</td>\n",
              "      <td>1029</td>\n",
              "      <td>0.6</td>\n",
              "      <td>1260759179</td>\n",
              "    </tr>\n",
              "  </tbody>\n",
              "</table>\n",
              "</div>"
            ],
            "text/plain": [
              "   userId  movieId  rating   timestamp\n",
              "0       1       31     0.5  1260759144\n",
              "1       1     1029     0.6  1260759179"
            ]
          },
          "metadata": {},
          "execution_count": 14
        }
      ]
    },
    {
      "cell_type": "code",
      "metadata": {
        "id": "PEWdH-hsHTom"
      },
      "source": [
        "import numpy as np\n",
        "from sklearn.model_selection import LeaveOneOut\n",
        "\n",
        "target = data['rating']\n",
        "del data['rating']"
      ],
      "execution_count": 34,
      "outputs": []
    },
    {
      "cell_type": "code",
      "metadata": {
        "colab": {
          "base_uri": "https://localhost:8080/"
        },
        "id": "GT4W8FSUH4Ss",
        "outputId": "a2fa3956-1bd2-4c55-d613-a10c189ae9b6"
      },
      "source": [
        "print(data.to_numpy())"
      ],
      "execution_count": 29,
      "outputs": [
        {
          "output_type": "stream",
          "name": "stdout",
          "text": [
            "[[         1         31 1260759144]\n",
            " [         1       1029 1260759179]\n",
            " [         1       1061 1260759182]\n",
            " ...\n",
            " [       671       6365 1070940363]\n",
            " [       671       6385 1070979663]\n",
            " [       671       6565 1074784724]]\n"
          ]
        }
      ]
    },
    {
      "cell_type": "code",
      "metadata": {
        "colab": {
          "base_uri": "https://localhost:8080/"
        },
        "id": "1pPl_ApwNlXM",
        "outputId": "8b3a0b81-560b-4bc6-fac5-31b771f32c00"
      },
      "source": [
        "!pip install scikit-surprise"
      ],
      "execution_count": 52,
      "outputs": [
        {
          "output_type": "stream",
          "name": "stdout",
          "text": [
            "Collecting scikit-surprise\n",
            "  Downloading scikit-surprise-1.1.1.tar.gz (11.8 MB)\n",
            "\u001b[K     |████████████████████████████████| 11.8 MB 46 kB/s \n",
            "\u001b[?25hRequirement already satisfied: joblib>=0.11 in /usr/local/lib/python3.7/dist-packages (from scikit-surprise) (1.0.1)\n",
            "Requirement already satisfied: numpy>=1.11.2 in /usr/local/lib/python3.7/dist-packages (from scikit-surprise) (1.19.5)\n",
            "Requirement already satisfied: scipy>=1.0.0 in /usr/local/lib/python3.7/dist-packages (from scikit-surprise) (1.4.1)\n",
            "Requirement already satisfied: six>=1.10.0 in /usr/local/lib/python3.7/dist-packages (from scikit-surprise) (1.15.0)\n",
            "Building wheels for collected packages: scikit-surprise\n",
            "  Building wheel for scikit-surprise (setup.py) ... \u001b[?25l\u001b[?25hdone\n",
            "  Created wheel for scikit-surprise: filename=scikit_surprise-1.1.1-cp37-cp37m-linux_x86_64.whl size=1619427 sha256=d21b987894a6d4b6ebe6d05a12509f70b3538cb6cd657e793917f6089bee5437\n",
            "  Stored in directory: /root/.cache/pip/wheels/76/44/74/b498c42be47b2406bd27994e16c5188e337c657025ab400c1c\n",
            "Successfully built scikit-surprise\n",
            "Installing collected packages: scikit-surprise\n",
            "Successfully installed scikit-surprise-1.1.1\n"
          ]
        }
      ]
    },
    {
      "cell_type": "code",
      "metadata": {
        "id": "9PM2_NOiND_n"
      },
      "source": [
        "from surprise import Reader\n",
        "from surprise import Dataset\n",
        "reader = Reader(rating_scale=(0.5, 5))\n",
        "data = Dataset.load_from_df(data[['userId', 'movieId', 'rating']], reader)"
      ],
      "execution_count": 58,
      "outputs": []
    },
    {
      "cell_type": "code",
      "metadata": {
        "id": "3N19g-etOHY5"
      },
      "source": [
        "from surprise import SVD\n",
        "algo = SVD(random_state=0)\n"
      ],
      "execution_count": 71,
      "outputs": []
    },
    {
      "cell_type": "code",
      "metadata": {
        "id": "SBg074JyK-s0"
      },
      "source": [
        "from surprise.model_selection import LeaveOneOut\n",
        "from collections import defaultdict\n",
        "def GetTopN(predictions, n=10, minimumRating=4.0):\n",
        "    topN = defaultdict(list)\n",
        "    for userID, movieID, actualRating, estimatedRating, _ in predictions:\n",
        "        if (estimatedRating >= minimumRating):\n",
        "            topN[int(userID)].append((int(movieID), estimatedRating))\n",
        "\n",
        "    for userID, ratings in topN.items():\n",
        "        ratings.sort(key=lambda x: x[1], reverse=True)\n",
        "        topN[int(userID)] = ratings[:n]\n",
        "\n",
        "    return topN\n",
        "    \n",
        "LOOCV = LeaveOneOut(n_splits=1, random_state=200)\n",
        "\n",
        "for trainSet, testSet in LOOCV.split(data):\n",
        "    # Train model without left-out ratings\n",
        "    algo.fit(trainSet)\n",
        "    # Predicts ratings for left-out ratings only\n",
        "    leftOutPredictions = algo.test(testSet)\n",
        "    # Build predictions for all ratings not in the training set\n",
        "    bigTestSet = trainSet.build_anti_testset()\n",
        "    allPredictions = algo.test(bigTestSet)\n",
        "    # Compute top 10 recs for each user\n",
        "    topNPredicted = GetTopN(allPredictions, n=10)"
      ],
      "execution_count": 78,
      "outputs": []
    },
    {
      "cell_type": "code",
      "metadata": {
        "colab": {
          "base_uri": "https://localhost:8080/"
        },
        "id": "i7y5VZ63PgSI",
        "outputId": "76ef48c3-3b3b-4677-88bf-dfac1bb8fa1c"
      },
      "source": [
        "print(topNPredicted[20])"
      ],
      "execution_count": 82,
      "outputs": [
        {
          "output_type": "stream",
          "name": "stdout",
          "text": [
            "[(5971, 4.297507417881327), (926, 4.159679468752792), (1172, 4.14926923963846), (91529, 4.086330574759832), (741, 4.080218799236677), (1217, 4.073908900631712), (33166, 4.027912737831531), (1361, 4.014758567801407), (1254, 4.003840770278485)]\n"
          ]
        }
      ]
    },
    {
      "cell_type": "code",
      "metadata": {
        "colab": {
          "base_uri": "https://localhost:8080/"
        },
        "id": "UyhhYnFyPnFl",
        "outputId": "815fbe93-c8b4-48a7-b58f-5d3e1a28cd35"
      },
      "source": [
        "def HitRate(topNPredicted, leftOutPredictions):\n",
        "    hits = 0\n",
        "    total = 0\n",
        "\n",
        " # For each left-out rating\n",
        "    for leftOut in leftOutPredictions:\n",
        "        userID = leftOut[0]\n",
        "        leftOutMovieID = leftOut[1]\n",
        "        # Is it in the predicted top 10 for this user?\n",
        "        hit = False\n",
        "        for movieID, predictedRating in topNPredicted[int(userID)]:\n",
        "            if (int(leftOutMovieID) == int(movieID)):\n",
        "                hit = True\n",
        "                break\n",
        "        if (hit) :\n",
        "            hits += 1\n",
        "\n",
        "        total += 1\n",
        "\n",
        "    # Compute overall precision\n",
        "    return hits/total\n",
        "print(\"\\nHit Rate: \", HitRate(topNPredicted, leftOutPredictions))"
      ],
      "execution_count": 80,
      "outputs": [
        {
          "output_type": "stream",
          "name": "stdout",
          "text": [
            "\n",
            "Hit Rate:  0.020864381520119227\n"
          ]
        }
      ]
    }
  ]
}