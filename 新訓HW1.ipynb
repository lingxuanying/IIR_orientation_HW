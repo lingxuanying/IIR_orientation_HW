{
  "nbformat": 4,
  "nbformat_minor": 0,
  "metadata": {
    "colab": {
      "name": "新訓HW1.ipynb",
      "provenance": [],
      "collapsed_sections": []
    },
    "kernelspec": {
      "name": "python3",
      "display_name": "Python 3"
    },
    "language_info": {
      "name": "python"
    }
  },
  "cells": [
    {
      "cell_type": "code",
      "metadata": {
        "colab": {
          "base_uri": "https://localhost:8080/"
        },
        "id": "oD88VmILNVoW",
        "outputId": "a10843ff-f445-4911-a63c-b960e70da1af"
      },
      "source": [
        "from google.colab import drive\n",
        "drive.mount('/content/drive')"
      ],
      "execution_count": 1,
      "outputs": [
        {
          "output_type": "stream",
          "text": [
            "Mounted at /content/drive\n"
          ],
          "name": "stdout"
        }
      ]
    },
    {
      "cell_type": "code",
      "metadata": {
        "colab": {
          "base_uri": "https://localhost:8080/"
        },
        "id": "6BMbMC5zFYcc",
        "outputId": "e1ad29fa-5055-402e-cc5f-07c43f023b90"
      },
      "source": [
        "import pandas as pd\n",
        "\n",
        "file_name = '/content/drive/My Drive/新生訓練/新訓HW1/sales_train.csv'\n",
        "data = pd.read_csv(file_name, encoding='utf-8', engine='python')\n"
      ],
      "execution_count": 43,
      "outputs": [
        {
          "output_type": "stream",
          "text": [
            "               date  date_block_num  shop_id  item_id  item_price  item_cnt_day\n",
            "0        02.01.2013               0       59    22154      999.00           1.0\n",
            "1        03.01.2013               0       25     2552      899.00           1.0\n",
            "2        05.01.2013               0       25     2552      899.00          -1.0\n",
            "3        06.01.2013               0       25     2554     1709.05           1.0\n",
            "4        15.01.2013               0       25     2555     1099.00           1.0\n",
            "...             ...             ...      ...      ...         ...           ...\n",
            "2935844  10.10.2015              33       25     7409      299.00           1.0\n",
            "2935845  09.10.2015              33       25     7460      299.00           1.0\n",
            "2935846  14.10.2015              33       25     7459      349.00           1.0\n",
            "2935847  22.10.2015              33       25     7440      299.00           1.0\n",
            "2935848  03.10.2015              33       25     7460      299.00           1.0\n",
            "\n",
            "[2935849 rows x 6 columns]\n"
          ],
          "name": "stdout"
        }
      ]
    },
    {
      "cell_type": "code",
      "metadata": {
        "colab": {
          "base_uri": "https://localhost:8080/"
        },
        "id": "Hwgxk9mtb8QV",
        "outputId": "5342d384-bca1-46a3-bb90-7a082bc2f6a1"
      },
      "source": [
        "data = data.drop(\"date\", axis = 1) # 刪除date欄位\n",
        "print(data)"
      ],
      "execution_count": 45,
      "outputs": [
        {
          "output_type": "stream",
          "text": [
            "         date_block_num  shop_id  item_id  item_price  item_cnt_day\n",
            "0                     0       59    22154      999.00           1.0\n",
            "1                     0       25     2552      899.00           1.0\n",
            "2                     0       25     2552      899.00          -1.0\n",
            "3                     0       25     2554     1709.05           1.0\n",
            "4                     0       25     2555     1099.00           1.0\n",
            "...                 ...      ...      ...         ...           ...\n",
            "2935844              33       25     7409      299.00           1.0\n",
            "2935845              33       25     7460      299.00           1.0\n",
            "2935846              33       25     7459      349.00           1.0\n",
            "2935847              33       25     7440      299.00           1.0\n",
            "2935848              33       25     7460      299.00           1.0\n",
            "\n",
            "[2935849 rows x 5 columns]\n"
          ],
          "name": "stdout"
        }
      ]
    },
    {
      "cell_type": "code",
      "metadata": {
        "id": "GXr3eqwyOn-v"
      },
      "source": [
        "file_name = '/content/drive/My Drive/新生訓練/新訓HW1/items.csv'\n",
        "items_data = pd.read_csv(file_name, encoding='utf-8', engine='python')"
      ],
      "execution_count": 46,
      "outputs": []
    },
    {
      "cell_type": "code",
      "metadata": {
        "colab": {
          "base_uri": "https://localhost:8080/"
        },
        "id": "REijFu8MO96d",
        "outputId": "e6b9f5c2-56fb-4f6c-80a1-a5c6449de5e4"
      },
      "source": [
        "item_category = []  # 在train.csv中加入item_category這個feature\n",
        "for i in range(len(data)):\n",
        "  if(i%10000==0):\n",
        "    print(i)\n",
        "  filter = (items_data[\"item_id\"] == data['item_id'][i])\n",
        "  item_category.append(items_data[filter]['item_category_id'].values[0])\n",
        "data['item_category_id'] = item_category"
      ],
      "execution_count": 48,
      "outputs": [
        {
          "output_type": "stream",
          "text": [
            "0\n",
            "10000\n",
            "20000\n",
            "30000\n",
            "40000\n",
            "50000\n",
            "60000\n",
            "70000\n",
            "80000\n",
            "90000\n",
            "100000\n",
            "110000\n",
            "120000\n",
            "130000\n",
            "140000\n",
            "150000\n",
            "160000\n",
            "170000\n",
            "180000\n",
            "190000\n",
            "200000\n",
            "210000\n",
            "220000\n",
            "230000\n",
            "240000\n",
            "250000\n",
            "260000\n",
            "270000\n",
            "280000\n",
            "290000\n",
            "300000\n",
            "310000\n",
            "320000\n",
            "330000\n",
            "340000\n",
            "350000\n",
            "360000\n",
            "370000\n",
            "380000\n",
            "390000\n",
            "400000\n",
            "410000\n",
            "420000\n",
            "430000\n",
            "440000\n",
            "450000\n",
            "460000\n",
            "470000\n",
            "480000\n",
            "490000\n",
            "500000\n",
            "510000\n",
            "520000\n",
            "530000\n",
            "540000\n",
            "550000\n",
            "560000\n",
            "570000\n",
            "580000\n",
            "590000\n",
            "600000\n",
            "610000\n",
            "620000\n",
            "630000\n",
            "640000\n",
            "650000\n",
            "660000\n",
            "670000\n",
            "680000\n",
            "690000\n",
            "700000\n",
            "710000\n",
            "720000\n",
            "730000\n",
            "740000\n",
            "750000\n",
            "760000\n",
            "770000\n",
            "780000\n",
            "790000\n",
            "800000\n",
            "810000\n",
            "820000\n",
            "830000\n",
            "840000\n",
            "850000\n",
            "860000\n",
            "870000\n",
            "880000\n",
            "890000\n",
            "900000\n",
            "910000\n",
            "920000\n",
            "930000\n",
            "940000\n",
            "950000\n",
            "960000\n",
            "970000\n",
            "980000\n",
            "990000\n",
            "1000000\n",
            "1010000\n",
            "1020000\n",
            "1030000\n",
            "1040000\n",
            "1050000\n",
            "1060000\n",
            "1070000\n",
            "1080000\n",
            "1090000\n",
            "1100000\n",
            "1110000\n",
            "1120000\n",
            "1130000\n",
            "1140000\n",
            "1150000\n",
            "1160000\n",
            "1170000\n",
            "1180000\n",
            "1190000\n",
            "1200000\n",
            "1210000\n",
            "1220000\n",
            "1230000\n",
            "1240000\n",
            "1250000\n",
            "1260000\n",
            "1270000\n",
            "1280000\n",
            "1290000\n",
            "1300000\n",
            "1310000\n",
            "1320000\n",
            "1330000\n",
            "1340000\n",
            "1350000\n",
            "1360000\n",
            "1370000\n",
            "1380000\n",
            "1390000\n",
            "1400000\n",
            "1410000\n",
            "1420000\n",
            "1430000\n",
            "1440000\n",
            "1450000\n",
            "1460000\n",
            "1470000\n",
            "1480000\n",
            "1490000\n",
            "1500000\n",
            "1510000\n",
            "1520000\n",
            "1530000\n",
            "1540000\n",
            "1550000\n",
            "1560000\n",
            "1570000\n",
            "1580000\n",
            "1590000\n",
            "1600000\n",
            "1610000\n",
            "1620000\n",
            "1630000\n",
            "1640000\n",
            "1650000\n",
            "1660000\n",
            "1670000\n",
            "1680000\n",
            "1690000\n",
            "1700000\n",
            "1710000\n",
            "1720000\n",
            "1730000\n",
            "1740000\n",
            "1750000\n",
            "1760000\n",
            "1770000\n",
            "1780000\n",
            "1790000\n",
            "1800000\n",
            "1810000\n",
            "1820000\n",
            "1830000\n",
            "1840000\n",
            "1850000\n",
            "1860000\n",
            "1870000\n",
            "1880000\n",
            "1890000\n",
            "1900000\n",
            "1910000\n",
            "1920000\n",
            "1930000\n",
            "1940000\n",
            "1950000\n",
            "1960000\n",
            "1970000\n",
            "1980000\n",
            "1990000\n",
            "2000000\n",
            "2010000\n",
            "2020000\n",
            "2030000\n",
            "2040000\n",
            "2050000\n",
            "2060000\n",
            "2070000\n",
            "2080000\n",
            "2090000\n",
            "2100000\n",
            "2110000\n",
            "2120000\n",
            "2130000\n",
            "2140000\n",
            "2150000\n",
            "2160000\n",
            "2170000\n",
            "2180000\n",
            "2190000\n",
            "2200000\n",
            "2210000\n",
            "2220000\n",
            "2230000\n",
            "2240000\n",
            "2250000\n",
            "2260000\n",
            "2270000\n",
            "2280000\n",
            "2290000\n",
            "2300000\n",
            "2310000\n",
            "2320000\n",
            "2330000\n",
            "2340000\n",
            "2350000\n",
            "2360000\n",
            "2370000\n",
            "2380000\n",
            "2390000\n",
            "2400000\n",
            "2410000\n",
            "2420000\n",
            "2430000\n",
            "2440000\n",
            "2450000\n",
            "2460000\n",
            "2470000\n",
            "2480000\n",
            "2490000\n",
            "2500000\n",
            "2510000\n",
            "2520000\n",
            "2530000\n",
            "2540000\n",
            "2550000\n",
            "2560000\n",
            "2570000\n",
            "2580000\n",
            "2590000\n",
            "2600000\n",
            "2610000\n",
            "2620000\n",
            "2630000\n",
            "2640000\n",
            "2650000\n",
            "2660000\n",
            "2670000\n",
            "2680000\n",
            "2690000\n",
            "2700000\n",
            "2710000\n",
            "2720000\n",
            "2730000\n",
            "2740000\n",
            "2750000\n",
            "2760000\n",
            "2770000\n",
            "2780000\n",
            "2790000\n",
            "2800000\n",
            "2810000\n",
            "2820000\n",
            "2830000\n",
            "2840000\n",
            "2850000\n",
            "2860000\n",
            "2870000\n",
            "2880000\n",
            "2890000\n",
            "2900000\n",
            "2910000\n",
            "2920000\n",
            "2930000\n"
          ],
          "name": "stdout"
        },
        {
          "output_type": "stream",
          "text": [
            "IOPub data rate exceeded.\n",
            "The notebook server will temporarily stop sending output\n",
            "to the client in order to avoid crashing it.\n",
            "To change this limit, set the config variable\n",
            "`--NotebookApp.iopub_data_rate_limit`.\n",
            "\n",
            "Current values:\n",
            "NotebookApp.iopub_data_rate_limit=1000000.0 (bytes/sec)\n",
            "NotebookApp.rate_limit_window=3.0 (secs)\n",
            "\n"
          ],
          "name": "stderr"
        }
      ]
    },
    {
      "cell_type": "code",
      "metadata": {
        "id": "NpDgr46UgkCr"
      },
      "source": [
        "data.to_csv('/content/drive/My Drive/新生訓練/新訓HW1/plus_item_category.csv',index=False , encoding='utf-8')"
      ],
      "execution_count": null,
      "outputs": []
    },
    {
      "cell_type": "code",
      "metadata": {
        "colab": {
          "base_uri": "https://localhost:8080/"
        },
        "id": "f95rS8WEsMsY",
        "outputId": "2972928d-4819-4081-de0c-ff442cbb52aa"
      },
      "source": [
        "temp = data.groupby(['date_block_num', 'shop_id', 'item_id'], as_index=False).item_cnt_day.sum()\n",
        "print(temp)\n"
      ],
      "execution_count": 121,
      "outputs": [
        {
          "output_type": "stream",
          "text": [
            "         date_block_num  shop_id  item_id  item_cnt_day\n",
            "0                     0        0       32           6.0\n",
            "1                     0        0       33           3.0\n",
            "2                     0        0       35           1.0\n",
            "3                     0        0       43           1.0\n",
            "4                     0        0       51           2.0\n",
            "...                 ...      ...      ...           ...\n",
            "1609119              33       59    22087           6.0\n",
            "1609120              33       59    22088           2.0\n",
            "1609121              33       59    22091           1.0\n",
            "1609122              33       59    22100           1.0\n",
            "1609123              33       59    22102           1.0\n",
            "\n",
            "[1609124 rows x 4 columns]\n"
          ],
          "name": "stdout"
        }
      ]
    },
    {
      "cell_type": "code",
      "metadata": {
        "colab": {
          "base_uri": "https://localhost:8080/"
        },
        "id": "mqtA_RrYuw6Q",
        "outputId": "6181820a-23d8-4d04-b21b-6ea5d12da80a"
      },
      "source": [
        "print(temp.columns)"
      ],
      "execution_count": 122,
      "outputs": [
        {
          "output_type": "stream",
          "text": [
            "Index(['date_block_num', 'shop_id', 'item_id', 'item_cnt_day'], dtype='object')\n"
          ],
          "name": "stdout"
        }
      ]
    },
    {
      "cell_type": "code",
      "metadata": {
        "colab": {
          "base_uri": "https://localhost:8080/",
          "height": 1000
        },
        "id": "YiqyYRfvuKFi",
        "outputId": "0dd40730-bd74-4eaf-c437-1a0a0e2f7c3e"
      },
      "source": [
        "for i in range(len(temp)):\n",
        "  if(i%10000==0):\n",
        "    print(i)\n",
        "  filter = (items_data[\"item_id\"] == temp['item_id'][i])\n",
        "  item_category.append(items_data[filter]['item_category_id'].values[0])\n"
      ],
      "execution_count": 123,
      "outputs": [
        {
          "output_type": "stream",
          "text": [
            "0\n",
            "10000\n",
            "20000\n",
            "30000\n",
            "40000\n",
            "50000\n",
            "60000\n",
            "70000\n",
            "80000\n",
            "90000\n",
            "100000\n",
            "110000\n",
            "120000\n",
            "130000\n",
            "140000\n",
            "150000\n",
            "160000\n",
            "170000\n",
            "180000\n",
            "190000\n",
            "200000\n",
            "210000\n",
            "220000\n",
            "230000\n",
            "240000\n",
            "250000\n",
            "260000\n",
            "270000\n",
            "280000\n",
            "290000\n",
            "300000\n",
            "310000\n",
            "320000\n",
            "330000\n",
            "340000\n",
            "350000\n",
            "360000\n",
            "370000\n",
            "380000\n",
            "390000\n",
            "400000\n",
            "410000\n",
            "420000\n",
            "430000\n",
            "440000\n",
            "450000\n",
            "460000\n",
            "470000\n",
            "480000\n",
            "490000\n",
            "500000\n",
            "510000\n",
            "520000\n",
            "530000\n",
            "540000\n",
            "550000\n",
            "560000\n",
            "570000\n",
            "580000\n",
            "590000\n",
            "600000\n",
            "610000\n",
            "620000\n",
            "630000\n",
            "640000\n",
            "650000\n",
            "660000\n",
            "670000\n",
            "680000\n",
            "690000\n",
            "700000\n",
            "710000\n",
            "720000\n",
            "730000\n",
            "740000\n",
            "750000\n",
            "760000\n",
            "770000\n",
            "780000\n",
            "790000\n",
            "800000\n",
            "810000\n",
            "820000\n",
            "830000\n",
            "840000\n",
            "850000\n",
            "860000\n",
            "870000\n",
            "880000\n",
            "890000\n",
            "900000\n",
            "910000\n",
            "920000\n",
            "930000\n",
            "940000\n",
            "950000\n",
            "960000\n",
            "970000\n",
            "980000\n",
            "990000\n",
            "1000000\n",
            "1010000\n",
            "1020000\n",
            "1030000\n",
            "1040000\n",
            "1050000\n",
            "1060000\n",
            "1070000\n",
            "1080000\n",
            "1090000\n",
            "1100000\n",
            "1110000\n",
            "1120000\n",
            "1130000\n",
            "1140000\n",
            "1150000\n",
            "1160000\n",
            "1170000\n",
            "1180000\n",
            "1190000\n",
            "1200000\n",
            "1210000\n",
            "1220000\n",
            "1230000\n",
            "1240000\n",
            "1250000\n",
            "1260000\n",
            "1270000\n",
            "1280000\n",
            "1290000\n",
            "1300000\n",
            "1310000\n",
            "1320000\n",
            "1330000\n",
            "1340000\n",
            "1350000\n",
            "1360000\n",
            "1370000\n",
            "1380000\n",
            "1390000\n",
            "1400000\n",
            "1410000\n",
            "1420000\n",
            "1430000\n",
            "1440000\n",
            "1450000\n",
            "1460000\n",
            "1470000\n",
            "1480000\n",
            "1490000\n",
            "1500000\n",
            "1510000\n",
            "1520000\n",
            "1530000\n",
            "1540000\n",
            "1550000\n",
            "1560000\n",
            "1570000\n",
            "1580000\n",
            "1590000\n",
            "1600000\n"
          ],
          "name": "stdout"
        },
        {
          "output_type": "error",
          "ename": "ValueError",
          "evalue": "ignored",
          "traceback": [
            "\u001b[0;31m---------------------------------------------------------------------------\u001b[0m",
            "\u001b[0;31mValueError\u001b[0m                                Traceback (most recent call last)",
            "\u001b[0;32m<ipython-input-123-4527e2921b98>\u001b[0m in \u001b[0;36m<module>\u001b[0;34m()\u001b[0m\n\u001b[1;32m      4\u001b[0m   \u001b[0mfilter\u001b[0m \u001b[0;34m=\u001b[0m \u001b[0;34m(\u001b[0m\u001b[0mitems_data\u001b[0m\u001b[0;34m[\u001b[0m\u001b[0;34m\"item_id\"\u001b[0m\u001b[0;34m]\u001b[0m \u001b[0;34m==\u001b[0m \u001b[0mtemp\u001b[0m\u001b[0;34m[\u001b[0m\u001b[0;34m'item_id'\u001b[0m\u001b[0;34m]\u001b[0m\u001b[0;34m[\u001b[0m\u001b[0mi\u001b[0m\u001b[0;34m]\u001b[0m\u001b[0;34m)\u001b[0m\u001b[0;34m\u001b[0m\u001b[0;34m\u001b[0m\u001b[0m\n\u001b[1;32m      5\u001b[0m   \u001b[0mitem_category\u001b[0m\u001b[0;34m.\u001b[0m\u001b[0mappend\u001b[0m\u001b[0;34m(\u001b[0m\u001b[0mitems_data\u001b[0m\u001b[0;34m[\u001b[0m\u001b[0mfilter\u001b[0m\u001b[0;34m]\u001b[0m\u001b[0;34m[\u001b[0m\u001b[0;34m'item_category_id'\u001b[0m\u001b[0;34m]\u001b[0m\u001b[0;34m.\u001b[0m\u001b[0mvalues\u001b[0m\u001b[0;34m[\u001b[0m\u001b[0;36m0\u001b[0m\u001b[0;34m]\u001b[0m\u001b[0;34m)\u001b[0m\u001b[0;34m\u001b[0m\u001b[0;34m\u001b[0m\u001b[0m\n\u001b[0;32m----> 6\u001b[0;31m \u001b[0mtemp\u001b[0m\u001b[0;34m[\u001b[0m\u001b[0;34m'item_category_id'\u001b[0m\u001b[0;34m]\u001b[0m \u001b[0;34m=\u001b[0m \u001b[0mitem_category\u001b[0m\u001b[0;34m\u001b[0m\u001b[0;34m\u001b[0m\u001b[0m\n\u001b[0m",
            "\u001b[0;32m/usr/local/lib/python3.7/dist-packages/pandas/core/frame.py\u001b[0m in \u001b[0;36m__setitem__\u001b[0;34m(self, key, value)\u001b[0m\n\u001b[1;32m   3042\u001b[0m         \u001b[0;32melse\u001b[0m\u001b[0;34m:\u001b[0m\u001b[0;34m\u001b[0m\u001b[0;34m\u001b[0m\u001b[0m\n\u001b[1;32m   3043\u001b[0m             \u001b[0;31m# set column\u001b[0m\u001b[0;34m\u001b[0m\u001b[0;34m\u001b[0m\u001b[0;34m\u001b[0m\u001b[0m\n\u001b[0;32m-> 3044\u001b[0;31m             \u001b[0mself\u001b[0m\u001b[0;34m.\u001b[0m\u001b[0m_set_item\u001b[0m\u001b[0;34m(\u001b[0m\u001b[0mkey\u001b[0m\u001b[0;34m,\u001b[0m \u001b[0mvalue\u001b[0m\u001b[0;34m)\u001b[0m\u001b[0;34m\u001b[0m\u001b[0;34m\u001b[0m\u001b[0m\n\u001b[0m\u001b[1;32m   3045\u001b[0m \u001b[0;34m\u001b[0m\u001b[0m\n\u001b[1;32m   3046\u001b[0m     \u001b[0;32mdef\u001b[0m \u001b[0m_setitem_slice\u001b[0m\u001b[0;34m(\u001b[0m\u001b[0mself\u001b[0m\u001b[0;34m,\u001b[0m \u001b[0mkey\u001b[0m\u001b[0;34m:\u001b[0m \u001b[0mslice\u001b[0m\u001b[0;34m,\u001b[0m \u001b[0mvalue\u001b[0m\u001b[0;34m)\u001b[0m\u001b[0;34m:\u001b[0m\u001b[0;34m\u001b[0m\u001b[0;34m\u001b[0m\u001b[0m\n",
            "\u001b[0;32m/usr/local/lib/python3.7/dist-packages/pandas/core/frame.py\u001b[0m in \u001b[0;36m_set_item\u001b[0;34m(self, key, value)\u001b[0m\n\u001b[1;32m   3118\u001b[0m         \"\"\"\n\u001b[1;32m   3119\u001b[0m         \u001b[0mself\u001b[0m\u001b[0;34m.\u001b[0m\u001b[0m_ensure_valid_index\u001b[0m\u001b[0;34m(\u001b[0m\u001b[0mvalue\u001b[0m\u001b[0;34m)\u001b[0m\u001b[0;34m\u001b[0m\u001b[0;34m\u001b[0m\u001b[0m\n\u001b[0;32m-> 3120\u001b[0;31m         \u001b[0mvalue\u001b[0m \u001b[0;34m=\u001b[0m \u001b[0mself\u001b[0m\u001b[0;34m.\u001b[0m\u001b[0m_sanitize_column\u001b[0m\u001b[0;34m(\u001b[0m\u001b[0mkey\u001b[0m\u001b[0;34m,\u001b[0m \u001b[0mvalue\u001b[0m\u001b[0;34m)\u001b[0m\u001b[0;34m\u001b[0m\u001b[0;34m\u001b[0m\u001b[0m\n\u001b[0m\u001b[1;32m   3121\u001b[0m         \u001b[0mNDFrame\u001b[0m\u001b[0;34m.\u001b[0m\u001b[0m_set_item\u001b[0m\u001b[0;34m(\u001b[0m\u001b[0mself\u001b[0m\u001b[0;34m,\u001b[0m \u001b[0mkey\u001b[0m\u001b[0;34m,\u001b[0m \u001b[0mvalue\u001b[0m\u001b[0;34m)\u001b[0m\u001b[0;34m\u001b[0m\u001b[0;34m\u001b[0m\u001b[0m\n\u001b[1;32m   3122\u001b[0m \u001b[0;34m\u001b[0m\u001b[0m\n",
            "\u001b[0;32m/usr/local/lib/python3.7/dist-packages/pandas/core/frame.py\u001b[0m in \u001b[0;36m_sanitize_column\u001b[0;34m(self, key, value, broadcast)\u001b[0m\n\u001b[1;32m   3766\u001b[0m \u001b[0;34m\u001b[0m\u001b[0m\n\u001b[1;32m   3767\u001b[0m             \u001b[0;31m# turn me into an ndarray\u001b[0m\u001b[0;34m\u001b[0m\u001b[0;34m\u001b[0m\u001b[0;34m\u001b[0m\u001b[0m\n\u001b[0;32m-> 3768\u001b[0;31m             \u001b[0mvalue\u001b[0m \u001b[0;34m=\u001b[0m \u001b[0msanitize_index\u001b[0m\u001b[0;34m(\u001b[0m\u001b[0mvalue\u001b[0m\u001b[0;34m,\u001b[0m \u001b[0mself\u001b[0m\u001b[0;34m.\u001b[0m\u001b[0mindex\u001b[0m\u001b[0;34m)\u001b[0m\u001b[0;34m\u001b[0m\u001b[0;34m\u001b[0m\u001b[0m\n\u001b[0m\u001b[1;32m   3769\u001b[0m             \u001b[0;32mif\u001b[0m \u001b[0;32mnot\u001b[0m \u001b[0misinstance\u001b[0m\u001b[0;34m(\u001b[0m\u001b[0mvalue\u001b[0m\u001b[0;34m,\u001b[0m \u001b[0;34m(\u001b[0m\u001b[0mnp\u001b[0m\u001b[0;34m.\u001b[0m\u001b[0mndarray\u001b[0m\u001b[0;34m,\u001b[0m \u001b[0mIndex\u001b[0m\u001b[0;34m)\u001b[0m\u001b[0;34m)\u001b[0m\u001b[0;34m:\u001b[0m\u001b[0;34m\u001b[0m\u001b[0;34m\u001b[0m\u001b[0m\n\u001b[1;32m   3770\u001b[0m                 \u001b[0;32mif\u001b[0m \u001b[0misinstance\u001b[0m\u001b[0;34m(\u001b[0m\u001b[0mvalue\u001b[0m\u001b[0;34m,\u001b[0m \u001b[0mlist\u001b[0m\u001b[0;34m)\u001b[0m \u001b[0;32mand\u001b[0m \u001b[0mlen\u001b[0m\u001b[0;34m(\u001b[0m\u001b[0mvalue\u001b[0m\u001b[0;34m)\u001b[0m \u001b[0;34m>\u001b[0m \u001b[0;36m0\u001b[0m\u001b[0;34m:\u001b[0m\u001b[0;34m\u001b[0m\u001b[0;34m\u001b[0m\u001b[0m\n",
            "\u001b[0;32m/usr/local/lib/python3.7/dist-packages/pandas/core/internals/construction.py\u001b[0m in \u001b[0;36msanitize_index\u001b[0;34m(data, index)\u001b[0m\n\u001b[1;32m    746\u001b[0m     \u001b[0;32mif\u001b[0m \u001b[0mlen\u001b[0m\u001b[0;34m(\u001b[0m\u001b[0mdata\u001b[0m\u001b[0;34m)\u001b[0m \u001b[0;34m!=\u001b[0m \u001b[0mlen\u001b[0m\u001b[0;34m(\u001b[0m\u001b[0mindex\u001b[0m\u001b[0;34m)\u001b[0m\u001b[0;34m:\u001b[0m\u001b[0;34m\u001b[0m\u001b[0;34m\u001b[0m\u001b[0m\n\u001b[1;32m    747\u001b[0m         raise ValueError(\n\u001b[0;32m--> 748\u001b[0;31m             \u001b[0;34m\"Length of values \"\u001b[0m\u001b[0;34m\u001b[0m\u001b[0;34m\u001b[0m\u001b[0m\n\u001b[0m\u001b[1;32m    749\u001b[0m             \u001b[0;34mf\"({len(data)}) \"\u001b[0m\u001b[0;34m\u001b[0m\u001b[0;34m\u001b[0m\u001b[0m\n\u001b[1;32m    750\u001b[0m             \u001b[0;34m\"does not match length of index \"\u001b[0m\u001b[0;34m\u001b[0m\u001b[0;34m\u001b[0m\u001b[0m\n",
            "\u001b[0;31mValueError\u001b[0m: Length of values (4544973) does not match length of index (1609124)"
          ]
        }
      ]
    },
    {
      "cell_type": "code",
      "metadata": {
        "id": "U8EIYAXR7Lq9"
      },
      "source": [
        "temp['item_category_id'] = item_category[2935849:]"
      ],
      "execution_count": 124,
      "outputs": []
    },
    {
      "cell_type": "code",
      "metadata": {
        "colab": {
          "base_uri": "https://localhost:8080/"
        },
        "id": "6WZlyMgSmRbV",
        "outputId": "9171c842-66ff-4f79-b0ce-e2af20e1ba49"
      },
      "source": [
        "print(temp)"
      ],
      "execution_count": 126,
      "outputs": [
        {
          "output_type": "stream",
          "text": [
            "         date_block_num  shop_id  item_id  item_cnt_day  item_category_id\n",
            "0                     0        0       32           6.0                40\n",
            "1                     0        0       33           3.0                37\n",
            "2                     0        0       35           1.0                40\n",
            "3                     0        0       43           1.0                40\n",
            "4                     0        0       51           2.0                57\n",
            "...                 ...      ...      ...           ...               ...\n",
            "1609119              33       59    22087           6.0                83\n",
            "1609120              33       59    22088           2.0                83\n",
            "1609121              33       59    22091           1.0                83\n",
            "1609122              33       59    22100           1.0                42\n",
            "1609123              33       59    22102           1.0                42\n",
            "\n",
            "[1609124 rows x 5 columns]\n"
          ],
          "name": "stdout"
        }
      ]
    },
    {
      "cell_type": "code",
      "metadata": {
        "id": "PE0c7ewzZrbV"
      },
      "source": [
        "temp.to_csv('/content/drive/My Drive/新生訓練/新訓HW1/GT.csv',index=False , encoding='utf-8')"
      ],
      "execution_count": 125,
      "outputs": []
    },
    {
      "cell_type": "markdown",
      "metadata": {
        "id": "Y_vBojbVQ_LC"
      },
      "source": [
        "# 對GT.csv作圖"
      ]
    },
    {
      "cell_type": "code",
      "metadata": {
        "colab": {
          "base_uri": "https://localhost:8080/"
        },
        "id": "NolqOvbVIPc6",
        "outputId": "712d979b-e7f3-419b-8e0a-03730ba34de2"
      },
      "source": [
        "file_name = '/content/drive/My Drive/新生訓練/新訓HW1/GT.csv'\n",
        "data = pd.read_csv(file_name, encoding='utf-8', engine='python')\n",
        "print(data)"
      ],
      "execution_count": 127,
      "outputs": [
        {
          "output_type": "stream",
          "text": [
            "         date_block_num  shop_id  item_id  item_cnt_day  item_category_id\n",
            "0                     0        0       32           6.0                40\n",
            "1                     0        0       33           3.0                37\n",
            "2                     0        0       35           1.0                40\n",
            "3                     0        0       43           1.0                40\n",
            "4                     0        0       51           2.0                57\n",
            "...                 ...      ...      ...           ...               ...\n",
            "1609119              33       59    22087           6.0                83\n",
            "1609120              33       59    22088           2.0                83\n",
            "1609121              33       59    22091           1.0                83\n",
            "1609122              33       59    22100           1.0                42\n",
            "1609123              33       59    22102           1.0                42\n",
            "\n",
            "[1609124 rows x 5 columns]\n"
          ],
          "name": "stdout"
        }
      ]
    },
    {
      "cell_type": "code",
      "metadata": {
        "colab": {
          "base_uri": "https://localhost:8080/"
        },
        "id": "Y8HS-bJRMXZk",
        "outputId": "c90d7a95-83f3-4391-c9ef-72c59c31479b"
      },
      "source": [
        "temp = data.groupby('date_block_num', as_index=False).item_cnt_day.mean()\n",
        "print(temp)"
      ],
      "execution_count": 146,
      "outputs": [
        {
          "output_type": "stream",
          "text": [
            "    date_block_num  item_cnt_day\n",
            "0                0      2.079574\n",
            "1                1      2.137149\n",
            "2                2      2.299920\n",
            "3                3      1.961821\n",
            "4                4      2.007092\n",
            "5                5      2.231137\n",
            "6                6      2.015439\n",
            "7                7      2.159371\n",
            "8                8      2.585206\n",
            "9                9      2.496399\n",
            "10              10      2.526409\n",
            "11              11      2.766341\n",
            "12              12      2.192404\n",
            "13              13      2.299325\n",
            "14              14      2.339109\n",
            "15              15      2.158158\n",
            "16              16      2.136739\n",
            "17              17      2.096104\n",
            "18              18      1.994930\n",
            "19              19      2.211955\n",
            "20              20      2.454246\n",
            "21              21      2.521939\n",
            "22              22      2.575566\n",
            "23              23      2.846984\n",
            "24              24      2.372443\n",
            "25              25      2.034259\n",
            "26              26      2.026839\n",
            "27              27      2.367361\n",
            "28              28      2.243793\n",
            "29              29      2.009276\n",
            "30              30      1.884660\n",
            "31              31      1.973332\n",
            "32              32      2.454444\n",
            "33              33      2.253528\n"
          ],
          "name": "stdout"
        }
      ]
    },
    {
      "cell_type": "code",
      "metadata": {
        "colab": {
          "base_uri": "https://localhost:8080/",
          "height": 296
        },
        "id": "T9H5dfdAJFqF",
        "outputId": "1283a2ed-74a2-4741-b052-4927cc9cf77c"
      },
      "source": [
        "import matplotlib.pyplot as plt\n",
        "fig, ax = plt.subplots()\n",
        "\n",
        "x_value = 'date_block_num'\n",
        "ax.plot(temp['date_block_num'], temp['item_cnt_day'])\n",
        "ax.set(xlabel=x_value, ylabel='avg_item_cnt_month',\n",
        "       title='avg_item_cnt_month/'+x_value)\n",
        "ax.grid()\n",
        "\n",
        "fig.savefig(\"test.png\")\n",
        "plt.show()"
      ],
      "execution_count": 147,
      "outputs": [
        {
          "output_type": "display_data",
          "data": {
            "image/png": "[encoded data removed]",
            "text/plain": [
              "<Figure size 432x288 with 1 Axes>"
            ]
          },
          "metadata": {
            "tags": [],
            "needs_background": "light"
          }
        }
      ]
    },
    {
      "cell_type": "code",
      "metadata": {
        "colab": {
          "base_uri": "https://localhost:8080/",
          "height": 296
        },
        "id": "pfvrRQ2-NQn6",
        "outputId": "7ea150a1-38d4-457e-87c2-6b13022188ed"
      },
      "source": [
        "x_value = 'shop_id'\n",
        "temp = data.groupby(x_value, as_index=False).item_cnt_day.mean()\n",
        "fig, ax = plt.subplots()\n",
        "\n",
        "ax.plot(temp['shop_id'], temp['item_cnt_day'])\n",
        "ax.set(xlabel=x_value, ylabel='avg_item_cnt_month',\n",
        "       title='avg_item_cnt_month/'+x_value)\n",
        "ax.grid()\n",
        "\n",
        "fig.savefig(\"test.png\")\n",
        "plt.show()"
      ],
      "execution_count": 148,
      "outputs": [
        {
          "output_type": "display_data",
          "data": {
            "image/png": "[encoded data removed]",
            "text/plain": [
              "<Figure size 432x288 with 1 Axes>"
            ]
          },
          "metadata": {
            "tags": [],
            "needs_background": "light"
          }
        }
      ]
    },
    {
      "cell_type": "code",
      "metadata": {
        "colab": {
          "base_uri": "https://localhost:8080/",
          "height": 296
        },
        "id": "tfadvF9qOD4V",
        "outputId": "27b1d241-df93-4050-f924-f0ca7a774f32"
      },
      "source": [
        "x_value = 'item_id'\n",
        "temp = data.groupby(x_value, as_index=False).item_cnt_day.mean()\n",
        "fig, ax = plt.subplots()\n",
        "ax.plot(temp['item_id'], temp['item_cnt_day'])\n",
        "ax.set(xlabel=x_value, ylabel='avg_item_cnt_month',\n",
        "       title='avg_item_cnt_month/'+x_value)\n",
        "ax.grid()\n",
        "\n",
        "fig.savefig(\"test.png\")\n",
        "plt.show()"
      ],
      "execution_count": 149,
      "outputs": [
        {
          "output_type": "display_data",
          "data": {
            "image/png": "[encoded data removed]",
            "text/plain": [
              "<Figure size 432x288 with 1 Axes>"
            ]
          },
          "metadata": {
            "tags": [],
            "needs_background": "light"
          }
        }
      ]
    },
    {
      "cell_type": "code",
      "metadata": {
        "colab": {
          "base_uri": "https://localhost:8080/",
          "height": 296
        },
        "id": "ojjXUOBtQjRb",
        "outputId": "4713d942-e573-4cfc-e24a-d7cac3716ce5"
      },
      "source": [
        "x_value = 'item_category_id'\n",
        "temp = data.groupby(x_value, as_index=False).item_cnt_day.mean()\n",
        "fig, ax = plt.subplots()\n",
        "ax.plot(temp['item_category_id'], temp['item_cnt_day'])\n",
        "ax.set(xlabel=x_value, ylabel='avg_item_cnt_month',\n",
        "       title='avg_item_cnt_month/'+x_value)\n",
        "ax.grid()\n",
        "\n",
        "fig.savefig(\"test.png\")\n",
        "plt.show()"
      ],
      "execution_count": 150,
      "outputs": [
        {
          "output_type": "display_data",
          "data": {
            "image/png": "[encoded data removed]",
            "text/plain": [
              "<Figure size 432x288 with 1 Axes>"
            ]
          },
          "metadata": {
            "tags": [],
            "needs_background": "light"
          }
        }
      ]
    },
    {
      "cell_type": "markdown",
      "metadata": {
        "id": "dy9h2XoYRGnw"
      },
      "source": [
        "# 對plus_item_category作圖"
      ]
    },
    {
      "cell_type": "code",
      "metadata": {
        "colab": {
          "base_uri": "https://localhost:8080/"
        },
        "id": "KdxYjiPsRM9E",
        "outputId": "26d4925e-0b90-4295-dd9e-e7f59fd188bd"
      },
      "source": [
        "import pandas as pd\n",
        "file_name = '/content/drive/My Drive/新生訓練/新訓HW1/plus_item_category.csv'\n",
        "data = pd.read_csv(file_name, encoding='utf-8', engine='python')\n",
        "print(data)"
      ],
      "execution_count": 2,
      "outputs": [
        {
          "output_type": "stream",
          "text": [
            "         date_block_num  shop_id  ...  item_cnt_day  item_category_id\n",
            "0                     0       59  ...           1.0                37\n",
            "1                     0       25  ...           1.0                58\n",
            "2                     0       25  ...          -1.0                58\n",
            "3                     0       25  ...           1.0                58\n",
            "4                     0       25  ...           1.0                56\n",
            "...                 ...      ...  ...           ...               ...\n",
            "2935844              33       25  ...           1.0                55\n",
            "2935845              33       25  ...           1.0                55\n",
            "2935846              33       25  ...           1.0                55\n",
            "2935847              33       25  ...           1.0                57\n",
            "2935848              33       25  ...           1.0                55\n",
            "\n",
            "[2935849 rows x 6 columns]\n"
          ],
          "name": "stdout"
        }
      ]
    },
    {
      "cell_type": "code",
      "metadata": {
        "colab": {
          "base_uri": "https://localhost:8080/"
        },
        "id": "4XKNCF2wRnhW",
        "outputId": "ade334ec-e0a9-4fd1-a156-cda8661be08c"
      },
      "source": [
        "print(data.columns)"
      ],
      "execution_count": 152,
      "outputs": [
        {
          "output_type": "stream",
          "text": [
            "Index(['date_block_num', 'shop_id', 'item_id', 'item_price', 'item_cnt_day',\n",
            "       'item_category_id'],\n",
            "      dtype='object')\n"
          ],
          "name": "stdout"
        }
      ]
    },
    {
      "cell_type": "code",
      "metadata": {
        "colab": {
          "base_uri": "https://localhost:8080/",
          "height": 296
        },
        "id": "tR1PSWGmRYlY",
        "outputId": "dc5addca-f3eb-4a34-8944-17c9495afe09"
      },
      "source": [
        "import matplotlib.pyplot as plt\n",
        "emp = data.groupby('item_price', as_index=False).item_cnt_day.mean()\n",
        "fig, ax = plt.subplots()\n",
        "ax.plot(temp['item_price'], temp['item_cnt_day'])\n",
        "ax.set(xlabel='item_price', ylabel='avg_item_cnt_day',\n",
        "       title='avg_item_cnt_day/'+'item_price')\n",
        "ax.grid()\n",
        "\n",
        "fig.savefig(\"test.png\")\n",
        "plt.show()"
      ],
      "execution_count": 4,
      "outputs": [
        {
          "output_type": "display_data",
          "data": {
            "image/png": "[encoded data removed]",
            "text/plain": [
              "<Figure size 432x288 with 1 Axes>"
            ]
          },
          "metadata": {
            "tags": [],
            "needs_background": "light"
          }
        }
      ]
    }
  ]
}